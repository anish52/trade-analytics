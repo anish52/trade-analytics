{
 "cells": [
  {
   "cell_type": "code",
   "execution_count": 1,
   "id": "3c5694d9",
   "metadata": {},
   "outputs": [],
   "source": [
    "import os\n",
    "import ipyvuetify as v\n",
    "import ipywidgets as ipw\n",
    "import yfinance as yf\n",
    "import matplotlib.pyplot as plt\n",
    "from ipyflex import FlexLayout\n",
    "from voila.utils import get_query_string\n",
    "\n",
    "from utils.vanilla_dataloader import load_data, percent_change_df\n",
    "from widgets import get_banner_widget, stock_price_plot_factory, ti_plot_factory,\\\n",
    "                    get_heatmap_widget, index_stats_widget, sector_wise_widget, cube_widget\n",
    "\n",
    "from prediction import get_prediction, plot_pred\n",
    "\n",
    "\n",
    "v.theme.dark = True\n",
    "plt.style.use('dark_background')"
   ]
  },
  {
   "cell_type": "code",
   "execution_count": 2,
   "id": "2c744cd3",
   "metadata": {},
   "outputs": [],
   "source": [
    "voila = os.getenv(\"VOILA_KERNEL_ID\")\n",
    "if voila is not None:\n",
    "    editable = True\n",
    "    height = \"calc(100vh - 60px)\"\n",
    "else:\n",
    "    editable = True\n",
    "    height = \"800px\""
   ]
  },
  {
   "cell_type": "code",
   "execution_count": 3,
   "id": "81691861",
   "metadata": {},
   "outputs": [],
   "source": [
    "w = FlexLayout(\n",
    "    style={\"height\": height},\n",
    "    header={\"title\": \"STOCK DASHBOARD\", \"style\": {\"backgroundColor\": \"rgb(53 53 53)\"}, \"buttons\":[\"export\",\"import\"]},\n",
    "    editable=editable,\n",
    ")"
   ]
  },
  {
   "cell_type": "code",
   "execution_count": 4,
   "id": "5064362f-8d84-478d-b0fb-177c903b960f",
   "metadata": {},
   "outputs": [
    {
     "data": {
      "application/vnd.jupyter.widget-view+json": {
       "model_id": "ab639eb31a984f32a3d132ccdec43b3c",
       "version_major": 2,
       "version_minor": 0
      },
      "text/plain": [
       "FlexLayout(header={'title': 'STOCK DASHBOARD', 'style': {'backgroundColor': 'rgb(53 53 53)'}, 'buttons': ['exp…"
      ]
     },
     "metadata": {},
     "output_type": "display_data"
    }
   ],
   "source": [
    "w"
   ]
  },
  {
   "cell_type": "code",
   "execution_count": 5,
   "id": "bda32c69-4a54-4628-a594-e5148047f14e",
   "metadata": {},
   "outputs": [],
   "source": [
    "w.load_template(\"template.json\")"
   ]
  },
  {
   "cell_type": "code",
   "execution_count": null,
   "id": "486a794d-ad16-4821-8e24-e9e746616bd6",
   "metadata": {},
   "outputs": [],
   "source": []
  },
  {
   "cell_type": "code",
   "execution_count": 6,
   "id": "426d9461",
   "metadata": {},
   "outputs": [],
   "source": [
    "sector_market_share = {'AAPL': ['Electronics Technology', 2455053795328],\n",
    "     'AMZN': ['Retail Trade', 1167926362112],\n",
    "     'AZN': ['Healthcare', 208860000000],\n",
    "     'CVS': ['Healthcare', 129431887872],\n",
    "     'EA': ['Consumer Durables', 39177392128],\n",
    "     'FB': ['Technology Servies', 542804836352],\n",
    "     'GOOGL': ['Technology Servies', 1482231906304 ],\n",
    "     'INTC': ['Electronics Technology', 181184856064],\n",
    "     'MSFT': ['Technology Servies', 2051480354816],\n",
    "     'NVDA': ['Electronics Technology', 468770127872],\n",
    "     'QCOM': ['Electronics Technology', 156531195904],\n",
    "     'TSLA': ['Consumer Durables', 762865975296],\n",
    "     'UNH': ['Healthcare', 475756396544],\n",
    "     'WMT': ['Retail Trade', 356388110336]} \n",
    "    \n",
    "stock_list = list(sector_market_share.keys())\n",
    "time_intervals = ['1d', '30m', '5m']\n",
    "cur_stock = stock_list[0]\n",
    "cur_interval = time_intervals[0]\n",
    "data_list, ti_list = load_data(stock_list)\n",
    "df = percent_change_df(data_list, sector_market_share)\n",
    "pred_df = get_prediction()"
   ]
  },
  {
   "cell_type": "code",
   "execution_count": 7,
   "id": "cffff746",
   "metadata": {},
   "outputs": [],
   "source": [
    "banner_widget = get_banner_widget()"
   ]
  },
  {
   "cell_type": "code",
   "execution_count": 8,
   "id": "4a8feb64",
   "metadata": {},
   "outputs": [],
   "source": [
    "index_stats_widget = index_stats_widget(sector_market_share, df)"
   ]
  },
  {
   "cell_type": "code",
   "execution_count": 9,
   "id": "671e21c0",
   "metadata": {},
   "outputs": [],
   "source": [
    "heatmap_widget = get_heatmap_widget(df)"
   ]
  },
  {
   "cell_type": "code",
   "execution_count": 10,
   "id": "7f11ac08",
   "metadata": {},
   "outputs": [],
   "source": [
    "sector_wise_widget = sector_wise_widget(df)"
   ]
  },
  {
   "cell_type": "code",
   "execution_count": 11,
   "id": "f6e1b78a",
   "metadata": {},
   "outputs": [],
   "source": [
    "cube_widget = cube_widget(df)"
   ]
  },
  {
   "cell_type": "code",
   "execution_count": 12,
   "id": "06c53abe",
   "metadata": {},
   "outputs": [],
   "source": [
    "stock_price_widget = stock_price_plot_factory(stock_list, data_list[0])"
   ]
  },
  {
   "cell_type": "code",
   "execution_count": 13,
   "id": "fa31c71a",
   "metadata": {},
   "outputs": [],
   "source": [
    "ti_widget = ti_plot_factory(data_list, ti_list, time_intervals, stock_list, cur_stock, cur_interval)"
   ]
  },
  {
   "cell_type": "code",
   "execution_count": 14,
   "id": "99fe8322",
   "metadata": {},
   "outputs": [],
   "source": [
    "prediction_widget = plot_pred(pred_df)"
   ]
  },
  {
   "cell_type": "code",
   "execution_count": 15,
   "id": "e9ea0f84",
   "metadata": {},
   "outputs": [],
   "source": [
    "widgets = {\n",
    "    'Banner': banner_widget,\n",
    "    'Summary': index_stats_widget, \n",
    "    'Heatmap': heatmap_widget,\n",
    "    \n",
    "    'Performance': sector_wise_widget,\n",
    "    'Cube': cube_widget,\n",
    "    \n",
    "    'Pricechart': stock_price_widget,\n",
    "    'TIGraph': ti_widget,\n",
    "    \n",
    "    'Bull_Bear': prediction_widget\n",
    "}"
   ]
  },
  {
   "cell_type": "code",
   "execution_count": 16,
   "id": "f387391f",
   "metadata": {},
   "outputs": [],
   "source": [
    "for key, value in widgets.items():\n",
    "    w.add(key, value)"
   ]
  },
  {
   "cell_type": "code",
   "execution_count": null,
   "id": "4f6058dd",
   "metadata": {},
   "outputs": [],
   "source": []
  },
  {
   "cell_type": "code",
   "execution_count": null,
   "id": "f21d37c3",
   "metadata": {},
   "outputs": [],
   "source": []
  },
  {
   "cell_type": "code",
   "execution_count": null,
   "id": "8c3d92fa",
   "metadata": {},
   "outputs": [],
   "source": []
  }
 ],
 "metadata": {
  "kernelspec": {
   "display_name": "Python 3 (ipykernel)",
   "language": "python",
   "name": "python3"
  },
  "language_info": {
   "codemirror_mode": {
    "name": "ipython",
    "version": 3
   },
   "file_extension": ".py",
   "mimetype": "text/x-python",
   "name": "python",
   "nbconvert_exporter": "python",
   "pygments_lexer": "ipython3",
   "version": "3.7.13"
  }
 },
 "nbformat": 4,
 "nbformat_minor": 5
}
